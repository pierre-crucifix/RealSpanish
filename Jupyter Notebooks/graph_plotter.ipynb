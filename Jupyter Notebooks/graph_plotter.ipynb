{
 "cells": [
  {
   "cell_type": "markdown",
   "metadata": {},
   "source": [
    "<h1 align=\"center\"><font size=\"5\">Visual Results</font></h1>"
   ]
  },
  {
   "cell_type": "markdown",
   "metadata": {},
   "source": [
    "This Jupyter Notebook has the purpose to plot the word graph after having processed an implementation of an algorithm for community detection. It serves also as a hands-on exercice by creating a new Jupyter Notebook from scratch."
   ]
  },
  {
   "cell_type": "markdown",
   "metadata": {},
   "source": [
    "### Table of contents\n",
    "\n",
    "<div class=\"alert alert-block alert-info\" style=\"margin-top: 20px\">\n",
    "    <ol>\n",
    "        <li><a href=\"#ref1\">Acquiring the Data</a></li>\n",
    "        <li><a href=\"#ref2\">Graph theory plot</a></li>\n",
    "        <li><a href=\"#ref3\">Dendogram</a></li>\n",
    "    </ol>\n",
    "</div>\n",
    "<br>"
   ]
  },
  {
   "cell_type": "markdown",
   "metadata": {},
   "source": [
    "<a id=\"ref1\"></a>\n",
    "# Acquiring the Data"
   ]
  },
  {
   "cell_type": "markdown",
   "metadata": {},
   "source": [
    "Managing the import"
   ]
  },
  {
   "cell_type": "code",
   "execution_count": null,
   "metadata": {},
   "outputs": [],
   "source": [
    "import pandas as pd\n",
    "import numpy as np\n",
    "import matplotlib.pyplot as plt\n",
    "import matplotlib.cm as cm\n",
    "import community as community_louvain\n",
    "import networkx as nx\n",
    "import plotly.figure_factory as ff\n",
    "import plotly.io as pio"
   ]
  },
  {
   "cell_type": "markdown",
   "metadata": {},
   "source": [
    "Creating the dataframes"
   ]
  },
  {
   "cell_type": "code",
   "execution_count": null,
   "metadata": {},
   "outputs": [],
   "source": [
    "df_adjacency_matrix=pd.read_csv(r\".\\3.Word Matrices\\WordsAdjacencyMatrix.csv\",index_col=0)\n",
    "df_words=pd.read_csv(r\".\\3.Word Matrices\\WordsFrequencyShortened.csv\",index_col=0)"
   ]
  },
  {
   "cell_type": "markdown",
   "metadata": {},
   "source": [
    "Prepare the graph node labels"
   ]
  },
  {
   "cell_type": "code",
   "execution_count": null,
   "metadata": {},
   "outputs": [],
   "source": [
    "nodes_list=df_words.index.tolist()\n",
    "nodes_labels=dict(zip(nodes_list,nodes_list))"
   ]
  },
  {
   "cell_type": "markdown",
   "metadata": {},
   "source": [
    "<a id=\"ref2\"></a>\n",
    "# Graph theory plot"
   ]
  },
  {
   "cell_type": "markdown",
   "metadata": {},
   "source": [
    "Let's observe the graph before managing the clustering. Note that the weights are not visible on the graph, but they are anyway stored in the object G."
   ]
  },
  {
   "cell_type": "code",
   "execution_count": null,
   "metadata": {},
   "outputs": [],
   "source": [
    "G = nx.from_pandas_adjacency(df_adjacency_matrix)\n",
    "G.name = 'Graph from pandas adjacency matrix'\n",
    "print(nx.info(G))\n",
    "nx.draw(G, node_size=500, with_labels=True)\n",
    "plt.show()"
   ]
  },
  {
   "cell_type": "markdown",
   "metadata": {},
   "source": [
    "The \"magic line\" below will explore the graph to create the communities based on connections between nodes.\n",
    "\n",
    "For more details, please see https://arxiv.org/pdf/0803.0476.pdf (paper describing the technique) and visit https://github.com/taynaud/python-louvain/blob/master/community/community_louvain.py (Python implementation of the technique based on networkx)"
   ]
  },
  {
   "cell_type": "code",
   "execution_count": null,
   "metadata": {},
   "outputs": [],
   "source": [
    "partition = community_louvain.best_partition(G,resolution=0.2)#Play with resolution (max=1.0) in order to get less (higher number) or more communities (clusters)"
   ]
  },
  {
   "cell_type": "markdown",
   "metadata": {},
   "source": [
    "Let us draw the graph again with colored clusters"
   ]
  },
  {
   "cell_type": "code",
   "execution_count": null,
   "metadata": {},
   "outputs": [],
   "source": [
    "plt.axis('off')\n",
    "pos = nx.spring_layout(G)\n",
    "\n",
    "# color the nodes according to their partition\n",
    "cmap = cm.get_cmap('viridis', max(partition.values()) + 1)\n",
    "nx.draw_networkx_nodes(G, pos, partition.keys(), node_size=20,\n",
    "                       cmap=cmap, node_color=list(partition.values()))#node_color follows a perceptually uniform color theme [https://matplotlib.org/examples/color/colormaps_reference.html]\n",
    "nx.draw_networkx_edges(G, pos, alpha=0.3)\n",
    "nx.draw_networkx_labels(G, pos, nodes_labels, font_size=1, font_color='w')\n",
    "plt.savefig(r\".\\4.Plots\\graph.png\", dpi=1000)\n",
    "plt.show()"
   ]
  },
  {
   "cell_type": "markdown",
   "metadata": {},
   "source": [
    "Even though we plotted the graph with clusters, work is not over yet. Indeed, it is necessary to save information about this clustering to use it later in order to create thematic vocabulary lists."
   ]
  },
  {
   "cell_type": "code",
   "execution_count": null,
   "metadata": {},
   "outputs": [],
   "source": [
    "clusters=list(partition.values())\n",
    "df_words[\"cluster_id\"]=clusters\n",
    "df_words.to_csv(r\".\\5.Vocabulary Lists\\WordsFrequencyShortenedClustered.csv\")\n",
    "df_words.to_excel(r\".\\5.Vocabulary Lists\\WordsFrequencyShortenedClustered.xlsx\")"
   ]
  },
  {
   "cell_type": "markdown",
   "metadata": {},
   "source": [
    "<a id=\"ref3\"></a>\n",
    "# Dendogram"
   ]
  },
  {
   "cell_type": "markdown",
   "metadata": {},
   "source": [
    "Another way to visualize the result is done through a dendogram."
   ]
  },
  {
   "cell_type": "code",
   "execution_count": null,
   "metadata": {},
   "outputs": [],
   "source": [
    "dendogram = community_louvain.generate_dendrogram(G,resolution=0.2, part_init=partition)\n",
    "label_dendogram=np.asarray(nodes_list)\n",
    "array_dendogram=np.asarray([list(dendogram[0].values())])\n",
    "\n",
    "fig = ff.create_dendrogram(array_dendogram,labels=nodes_list)\n",
    "fig.update_layout(width=800, height=500)\n",
    "pio.write_image(fig, r\".\\4.Plots\\dendogram.png\",scale=10)\n",
    "# pio.write_image(fig, r\".\\4.Plots\\dendogram.pdf\")\n",
    "# pio.write_image(fig, r\".\\4.Plots\\dendogram.svg\")\n",
    "fig.show()"
   ]
  }
 ],
 "metadata": {
  "kernelspec": {
   "display_name": "Python 3",
   "language": "python",
   "name": "python3"
  },
  "language_info": {
   "codemirror_mode": {
    "name": "ipython",
    "version": 3
   },
   "file_extension": ".py",
   "mimetype": "text/x-python",
   "name": "python",
   "nbconvert_exporter": "python",
   "pygments_lexer": "ipython3",
   "version": "3.7.4"
  }
 },
 "nbformat": 4,
 "nbformat_minor": 2
}
